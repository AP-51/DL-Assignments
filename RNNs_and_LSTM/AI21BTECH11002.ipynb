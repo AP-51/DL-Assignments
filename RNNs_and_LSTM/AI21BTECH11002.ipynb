{
 "cells": [
  {
   "cell_type": "code",
   "execution_count": 178,
   "id": "258372dc",
   "metadata": {},
   "outputs": [],
   "source": [
    "import numpy as np\n",
    "import random\n",
    "import matplotlib.pyplot as plt\n",
    "import torch\n",
    "import torch.nn as nn\n",
    "import torch.nn.functional as F"
   ]
  },
  {
   "cell_type": "markdown",
   "id": "147116a0",
   "metadata": {},
   "source": [
    "# Dataset Creation"
   ]
  },
  {
   "cell_type": "code",
   "execution_count": 207,
   "id": "1600d1c5",
   "metadata": {},
   "outputs": [],
   "source": [
    "def dataset(d_size,x,y):\n",
    "    n=np.random.randint(low=3,high=11,size=d_size)\n",
    "    for i in range(size):\n",
    "        a=np.empty(shape=(n[i],2))\n",
    "        for j in range(n[i]):\n",
    "            k=np.random.rand(1)\n",
    "            a[j][0]=k[0]\n",
    "            a[j][1]=0.\n",
    "        x.append(a)\n",
    "        l=random.sample(range(0,n[i]),2)\n",
    "        x[i][l[0]][1]=1.\n",
    "        x[i][l[1]][1]=1.\n",
    "        t=x[i][l[0]][0]+x[i][l[1]][0]\n",
    "        y.append(t)\n",
    "#     print(x[510].shape)\n",
    "#     print(y[510])\n",
    "    return x,y\n"
   ]
  },
  {
   "cell_type": "code",
   "execution_count": 208,
   "id": "2f6772b1",
   "metadata": {},
   "outputs": [
    {
     "name": "stdout",
     "output_type": "stream",
     "text": [
      "5151\n",
      "torch.Size([3, 2])\n"
     ]
    }
   ],
   "source": [
    "size=5151\n",
    "x_1=[]\n",
    "y_1=[]\n",
    "x_1,y_1=dataset(size,x_1,y_1)\n",
    "print(len(x_1))\n",
    "print(torch.tensor(x_1[1]).shape)"
   ]
  },
  {
   "cell_type": "markdown",
   "id": "388a12ca",
   "metadata": {},
   "source": [
    "# Elmon"
   ]
  },
  {
   "cell_type": "code",
   "execution_count": 209,
   "id": "c1009ff0",
   "metadata": {},
   "outputs": [],
   "source": [
    "class Elmon(nn.Module):\n",
    "    def __init__(self):\n",
    "        super().__init__()\n",
    "        self.double()\n",
    "        self.hl=torch.zeros(1,5,dtype=torch.double)\n",
    "        self.w=torch.nn.Parameter(torch.rand(5,5,dtype=torch.double))\n",
    "        self.u=torch.nn.Parameter(torch.rand(2,5,dtype=torch.double))\n",
    "        self.v=torch.nn.Parameter(torch.rand(5,1,dtype=torch.double))\n",
    "        self.bias_x=torch.nn.Parameter(torch.rand(1,5,dtype=torch.double))\n",
    "        self.bias_y=torch.nn.Parameter(torch.rand(1,1,dtype=torch.double))\n",
    "        \n",
    "    def forward(self,x_input):\n",
    "        h=self.hl\n",
    "        for i in range(x_input.shape[0]):\n",
    "            h=torch.tanh(torch.tensor(x_input[i])@self.u+h@self.w+self.bias_x)\n",
    "        return torch.relu(h@self.v+self.bias_y) "
   ]
  },
  {
   "cell_type": "code",
   "execution_count": 210,
   "id": "820362b3",
   "metadata": {},
   "outputs": [
    {
     "name": "stderr",
     "output_type": "stream",
     "text": [
      "/tmp/ipykernel_5331/2712579673.py:15: UserWarning: To copy construct from a tensor, it is recommended to use sourceTensor.clone().detach() or sourceTensor.clone().detach().requires_grad_(True), rather than torch.tensor(sourceTensor).\n",
      "  h=torch.tanh(torch.tensor(x_input[i])@self.u+h@self.w+self.bias_x)\n"
     ]
    },
    {
     "name": "stdout",
     "output_type": "stream",
     "text": [
      "Epoch: 1/13............. Loss: 0.38145\n",
      "Epoch: 2/13............. Loss: 0.07755\n",
      "Epoch: 3/13............. Loss: 0.02713\n",
      "Epoch: 4/13............. Loss: 0.01505\n",
      "Epoch: 5/13............. Loss: 0.01143\n",
      "Epoch: 6/13............. Loss: 0.00975\n",
      "Epoch: 7/13............. Loss: 0.00894\n",
      "Epoch: 8/13............. Loss: 0.00843\n",
      "Epoch: 9/13............. Loss: 0.00805\n",
      "Epoch: 10/13............. Loss: 0.00772\n",
      "Epoch: 11/13............. Loss: 0.00743\n",
      "Epoch: 12/13............. Loss: 0.00714\n",
      "Epoch: 13/13............. Loss: 0.00686\n",
      "13\n"
     ]
    }
   ],
   "source": [
    "model=Elmon()\n",
    "lr=0.001\n",
    "n_epochs=13\n",
    "optimizer=torch.optim.Adam(model.parameters(), lr=lr)\n",
    "loss_fn=nn.MSELoss()\n",
    "elmon_loss=[]\n",
    "\n",
    "\n",
    "for epoch in range(1,n_epochs+1):\n",
    "    ls=0\n",
    "    for i in range(size):\n",
    "        optimizer.zero_grad() # Clears existing gradients from previous epoch\n",
    "        output = model(torch.tensor(x_1[i],dtype=torch.double))\n",
    "        loss = loss_fn(output,torch.tensor(y_1[i],dtype=torch.double))\n",
    "        loss.backward() # Does backpropagation and calculates gradients\n",
    "        optimizer.step() # Updates the weights accordingly\n",
    "        ls+=loss.item()\n",
    "    \n",
    "    print('Epoch: {}/{}.............'.format(epoch, n_epochs), end=' ')\n",
    "    print(\"Loss: {:.5f}\".format(ls/size))\n",
    "    elmon_loss.append(ls/size)\n",
    "print(len(elmon_loss))"
   ]
  },
  {
   "cell_type": "markdown",
   "id": "d3c73deb",
   "metadata": {},
   "source": [
    "# LSTM"
   ]
  },
  {
   "cell_type": "code",
   "execution_count": 211,
   "id": "d0efb8e6",
   "metadata": {},
   "outputs": [],
   "source": [
    "class lstm(nn.Module):\n",
    "    def __init__(self):\n",
    "        super().__init__()\n",
    "        self.double()\n",
    "        self.hl=torch.zeros(1,5,dtype=torch.double)\n",
    "        self.c=torch.zeros(1,5,dtype=torch.double)\n",
    "        self.wf=torch.nn.Parameter(torch.rand(7,5,dtype=torch.double))\n",
    "        self.wi=torch.nn.Parameter(torch.rand(7,5,dtype=torch.double))\n",
    "        self.wc=torch.nn.Parameter(torch.rand(7,5,dtype=torch.double))\n",
    "        self.wo=torch.nn.Parameter(torch.rand(7,5,dtype=torch.double))\n",
    "        self.v=torch.nn.Parameter(torch.rand(5,1,dtype=torch.double))\n",
    "        self.bias_f=torch.nn.Parameter(torch.rand(1,5,dtype=torch.double))\n",
    "        self.bias_i=torch.nn.Parameter(torch.rand(1,5,dtype=torch.double))\n",
    "        self.bias_c=torch.nn.Parameter(torch.rand(1,5,dtype=torch.double))\n",
    "        self.bias_o=torch.nn.Parameter(torch.rand(1,5,dtype=torch.double))\n",
    "        self.bias_v=torch.nn.Parameter(torch.rand(1,1,dtype=torch.double))\n",
    "    \n",
    "    def forward(self,x_input):\n",
    "        h=self.hl\n",
    "        c=self.c\n",
    "        c2=torch.zeros(1,5,dtype=torch.double)\n",
    "        f=torch.zeros(1,5,dtype=torch.double)\n",
    "        i=torch.zeros(1,5,dtype=torch.double)\n",
    "        for j in range(x_input.shape[0]):\n",
    "            cat=torch.cat((torch.tensor(x_input[j]).reshape(1,2),self.hl),1)\n",
    "            f=torch.sigmoid((cat@self.wf)+self.bias_f)\n",
    "            i=torch.sigmoid((cat@self.wi)+self.bias_i)\n",
    "            c2=torch.tanh(cat@self.wc+self.bias_c)\n",
    "            c=c*f+c2*i\n",
    "            o=torch.sigmoid((cat@self.wo)+self.bias_o)\n",
    "            h=o*torch.tanh(c)\n",
    "        return torch.relu(h@self.v+self.bias_v)\n",
    "        "
   ]
  },
  {
   "cell_type": "code",
   "execution_count": 212,
   "id": "2a8b9615",
   "metadata": {},
   "outputs": [
    {
     "name": "stderr",
     "output_type": "stream",
     "text": [
      "/tmp/ipykernel_5331/78840988.py:25: UserWarning: To copy construct from a tensor, it is recommended to use sourceTensor.clone().detach() or sourceTensor.clone().detach().requires_grad_(True), rather than torch.tensor(sourceTensor).\n",
      "  cat=torch.cat((torch.tensor(x_input[j]).reshape(1,2),self.hl),1)\n"
     ]
    },
    {
     "name": "stdout",
     "output_type": "stream",
     "text": [
      "Epoch: 1/13............. Loss: 0.20593\n",
      "Epoch: 2/13............. Loss: 0.06065\n",
      "Epoch: 3/13............. Loss: 0.00762\n",
      "Epoch: 4/13............. Loss: 0.00229\n",
      "Epoch: 5/13............. Loss: 0.00124\n",
      "Epoch: 6/13............. Loss: 0.00083\n",
      "Epoch: 7/13............. Loss: 0.00062\n",
      "Epoch: 8/13............. Loss: 0.00049\n",
      "Epoch: 9/13............. Loss: 0.00039\n",
      "Epoch: 10/13............. Loss: 0.00030\n",
      "Epoch: 11/13............. Loss: 0.00024\n",
      "Epoch: 12/13............. Loss: 0.00020\n",
      "Epoch: 13/13............. Loss: 0.00016\n"
     ]
    }
   ],
   "source": [
    "model2=lstm()\n",
    "lr=0.001\n",
    "n_epochs=13\n",
    "optimizer=torch.optim.Adam(model2.parameters(), lr=lr)\n",
    "loss_fn=nn.MSELoss()\n",
    "lstm_loss=[]\n",
    "\n",
    "for epoch in range(1,n_epochs+1):\n",
    "    ls=0\n",
    "    for i in range(size):\n",
    "        optimizer.zero_grad() # Clears existing gradients from previous epoch\n",
    "        output = model2(torch.tensor(x_1[i],dtype=torch.double))\n",
    "        loss = loss_fn(output,torch.tensor(y_1[i],dtype=torch.double))\n",
    "        loss.backward() # Does backpropagation and calculates gradients\n",
    "        optimizer.step() # Updates the weights accordingly\n",
    "        ls+=loss.item()\n",
    "    \n",
    "    print('Epoch: {}/{}.............'.format(epoch, n_epochs), end=' ')\n",
    "    print(\"Loss: {:.5f}\".format(ls/size))\n",
    "    lstm_loss.append(ls/size)\n",
    "    "
   ]
  },
  {
   "cell_type": "markdown",
   "id": "0fe5ac89",
   "metadata": {},
   "source": [
    "# GRU"
   ]
  },
  {
   "cell_type": "code",
   "execution_count": 213,
   "id": "beb759c5",
   "metadata": {},
   "outputs": [],
   "source": [
    "class gru(nn.Module):\n",
    "    def __init__(self):\n",
    "        super().__init__()\n",
    "        self.double()\n",
    "        self.hl=torch.zeros(1,5,dtype=torch.double)\n",
    "        self.wr=torch.nn.Parameter(torch.rand(7,5,dtype=torch.double))\n",
    "        self.wz=torch.nn.Parameter(torch.rand(7,5,dtype=torch.double))\n",
    "        self.w=torch.nn.Parameter(torch.rand(7,5,dtype=torch.double))\n",
    "        self.v=torch.nn.Parameter(torch.rand(5,1,dtype=torch.double))\n",
    "        self.bias_z=torch.nn.Parameter(torch.rand(1,5,dtype=torch.double))\n",
    "        self.bias_r=torch.nn.Parameter(torch.rand(1,5,dtype=torch.double))\n",
    "        self.bias=torch.nn.Parameter(torch.rand(1,5,dtype=torch.double))\n",
    "        self.bias_v=torch.nn.Parameter(torch.rand(1,1,dtype=torch.double))\n",
    "    \n",
    "    def forward(self,x_input):\n",
    "        h=self.hl\n",
    "        z=torch.zeros(1,5,dtype=torch.double)\n",
    "        r=torch.zeros(1,5,dtype=torch.double)\n",
    "        h2=torch.zeros(1,5,dtype=torch.double)\n",
    "        for j in range(x_input.shape[0]):\n",
    "            cat=torch.cat((torch.tensor(x_input[j]).reshape(1,2),self.hl),1)\n",
    "            r=torch.sigmoid((cat@self.wr)+self.bias_r)\n",
    "            cat2=torch.cat((torch.tensor(x_input[j]).reshape(1,2),self.hl*r),1)\n",
    "            z=torch.sigmoid((cat@self.wz)+self.bias_z)\n",
    "            h2=torch.tanh(cat2@self.w+self.bias)\n",
    "            h=(1-z)*h+z*h2\n",
    "            return torch.relu(h@self.v+self.bias_v)"
   ]
  },
  {
   "cell_type": "code",
   "execution_count": 217,
   "id": "7da9a9b2",
   "metadata": {},
   "outputs": [
    {
     "name": "stderr",
     "output_type": "stream",
     "text": [
      "/tmp/ipykernel_5331/2065635158.py:21: UserWarning: To copy construct from a tensor, it is recommended to use sourceTensor.clone().detach() or sourceTensor.clone().detach().requires_grad_(True), rather than torch.tensor(sourceTensor).\n",
      "  cat=torch.cat((torch.tensor(x_input[j]).reshape(1,2),self.hl),1)\n",
      "/tmp/ipykernel_5331/2065635158.py:23: UserWarning: To copy construct from a tensor, it is recommended to use sourceTensor.clone().detach() or sourceTensor.clone().detach().requires_grad_(True), rather than torch.tensor(sourceTensor).\n",
      "  cat2=torch.cat((torch.tensor(x_input[j]).reshape(1,2),self.hl*r),1)\n"
     ]
    },
    {
     "name": "stdout",
     "output_type": "stream",
     "text": [
      "Epoch: 1/13............. Loss: 1.82872\n",
      "Epoch: 2/13............. Loss: 1.21933\n",
      "Epoch: 3/13............. Loss: 0.78676\n",
      "Epoch: 4/13............. Loss: 0.49991\n",
      "Epoch: 5/13............. Loss: 0.32917\n",
      "Epoch: 6/13............. Loss: 0.24259\n",
      "Epoch: 7/13............. Loss: 0.20535\n",
      "Epoch: 8/13............. Loss: 0.19043\n",
      "Epoch: 9/13............. Loss: 0.18376\n",
      "Epoch: 10/13............. Loss: 0.17996\n",
      "Epoch: 11/13............. Loss: 0.17725\n",
      "Epoch: 12/13............. Loss: 0.17507\n",
      "Epoch: 13/13............. Loss: 0.17322\n"
     ]
    }
   ],
   "source": [
    "model3=gru()\n",
    "lr=0.00001\n",
    "n_epochs=13\n",
    "optimizer=torch.optim.Adam(model3.parameters(), lr=lr)\n",
    "loss_fn=nn.MSELoss()\n",
    "gru_loss=[]\n",
    "\n",
    "for epoch in range(1,n_epochs+1):\n",
    "    ls=0\n",
    "    for i in range(size):\n",
    "        optimizer.zero_grad() # Clears existing gradients from previous epoch\n",
    "        output = model3(torch.tensor(x_1[i],dtype=torch.double))\n",
    "        loss = loss_fn(output,torch.tensor(y_1[i],dtype=torch.double))\n",
    "        loss.backward() # Does backpropagation and calculates gradients\n",
    "        optimizer.step() # Updates the weights accordingly\n",
    "        ls+=loss.item()\n",
    "    \n",
    "    print('Epoch: {}/{}.............'.format(epoch, n_epochs), end=' ')\n",
    "    print(\"Loss: {:.5f}\".format(ls/size))\n",
    "    gru_loss.append(ls/size)"
   ]
  },
  {
   "cell_type": "code",
   "execution_count": null,
   "id": "c923ad8a",
   "metadata": {},
   "outputs": [],
   "source": []
  },
  {
   "cell_type": "markdown",
   "id": "bb881a16",
   "metadata": {},
   "source": [
    "# Test data"
   ]
  },
  {
   "cell_type": "code",
   "execution_count": 215,
   "id": "80610449",
   "metadata": {},
   "outputs": [
    {
     "ename": "IndexError",
     "evalue": "index 1000 is out of bounds for axis 0 with size 1000",
     "output_type": "error",
     "traceback": [
      "\u001b[0;31m---------------------------------------------------------------------------\u001b[0m",
      "\u001b[0;31mIndexError\u001b[0m                                Traceback (most recent call last)",
      "Cell \u001b[0;32mIn [215], line 4\u001b[0m\n\u001b[1;32m      2\u001b[0m x_test\u001b[38;5;241m=\u001b[39m[]\n\u001b[1;32m      3\u001b[0m y_test\u001b[38;5;241m=\u001b[39m[]\n\u001b[0;32m----> 4\u001b[0m x_test,y_test\u001b[38;5;241m=\u001b[39m\u001b[43mdataset\u001b[49m\u001b[43m(\u001b[49m\u001b[43msize_t\u001b[49m\u001b[43m,\u001b[49m\u001b[43mx_test\u001b[49m\u001b[43m,\u001b[49m\u001b[43my_test\u001b[49m\u001b[43m)\u001b[49m\n",
      "Cell \u001b[0;32mIn [207], line 4\u001b[0m, in \u001b[0;36mdataset\u001b[0;34m(d_size, x, y)\u001b[0m\n\u001b[1;32m      2\u001b[0m n\u001b[38;5;241m=\u001b[39mnp\u001b[38;5;241m.\u001b[39mrandom\u001b[38;5;241m.\u001b[39mrandint(low\u001b[38;5;241m=\u001b[39m\u001b[38;5;241m3\u001b[39m,high\u001b[38;5;241m=\u001b[39m\u001b[38;5;241m11\u001b[39m,size\u001b[38;5;241m=\u001b[39md_size)\n\u001b[1;32m      3\u001b[0m \u001b[38;5;28;01mfor\u001b[39;00m i \u001b[38;5;129;01min\u001b[39;00m \u001b[38;5;28mrange\u001b[39m(size):\n\u001b[0;32m----> 4\u001b[0m     a\u001b[38;5;241m=\u001b[39mnp\u001b[38;5;241m.\u001b[39mempty(shape\u001b[38;5;241m=\u001b[39m(\u001b[43mn\u001b[49m\u001b[43m[\u001b[49m\u001b[43mi\u001b[49m\u001b[43m]\u001b[49m,\u001b[38;5;241m2\u001b[39m))\n\u001b[1;32m      5\u001b[0m     \u001b[38;5;28;01mfor\u001b[39;00m j \u001b[38;5;129;01min\u001b[39;00m \u001b[38;5;28mrange\u001b[39m(n[i]):\n\u001b[1;32m      6\u001b[0m         k\u001b[38;5;241m=\u001b[39mnp\u001b[38;5;241m.\u001b[39mrandom\u001b[38;5;241m.\u001b[39mrand(\u001b[38;5;241m1\u001b[39m)\n",
      "\u001b[0;31mIndexError\u001b[0m: index 1000 is out of bounds for axis 0 with size 1000"
     ]
    }
   ],
   "source": [
    "size_t=1000\n",
    "x_test=[]\n",
    "y_test=[]\n",
    "x_test,y_test=dataset(size_t,x_test,y_test)"
   ]
  },
  {
   "cell_type": "code",
   "execution_count": null,
   "id": "3a4b514b",
   "metadata": {},
   "outputs": [],
   "source": [
    "loss_fn=nn.MSELoss()\n",
    "lst=0\n",
    "for epoch in range(1,n_epochs+1):\n",
    "    for i in range(size_t):\n",
    "        output = model(torch.tensor(x_test[i],dtype=torch.double))\n",
    "        loss=loss_fn(output,torch.tensor(y_test[i],dtype=torch.double))\n",
    "        lst+=loss.item()\n",
    "        elmon_test_loss.append(lst/size)\n"
   ]
  },
  {
   "cell_type": "markdown",
   "id": "df386620",
   "metadata": {},
   "source": [
    "# Plotting"
   ]
  },
  {
   "cell_type": "code",
   "execution_count": 218,
   "id": "d7616d3a",
   "metadata": {},
   "outputs": [
    {
     "data": {
      "image/png": "[encoded data removed]",
      "text/plain": [
       "<Figure size 640x480 with 1 Axes>"
      ]
     },
     "metadata": {},
     "output_type": "display_data"
    }
   ],
   "source": [
    "plt.xlabel(\"epochs\")\n",
    "plt.ylabel(\"losses\")\n",
    "plt.plot(range(1,14),elmon_loss,label=\"elmon\")\n",
    "plt.plot(range(1,14),lstm_loss,label=\"LSTM\")\n",
    "plt.plot(range(1,14),gru_loss,label=\"GRU\")\n",
    "plt.legend()\n",
    "plt.show()"
   ]
  },
  {
   "cell_type": "code",
   "execution_count": null,
   "id": "b9ae6f74",
   "metadata": {},
   "outputs": [],
   "source": []
  }
 ],
 "metadata": {
  "kernelspec": {
   "display_name": "Python 3 (ipykernel)",
   "language": "python",
   "name": "python3"
  },
  "language_info": {
   "codemirror_mode": {
    "name": "ipython",
    "version": 3
   },
   "file_extension": ".py",
   "mimetype": "text/x-python",
   "name": "python",
   "nbconvert_exporter": "python",
   "pygments_lexer": "ipython3",
   "version": "3.10.6"
  }
 },
 "nbformat": 4,
 "nbformat_minor": 5
}
